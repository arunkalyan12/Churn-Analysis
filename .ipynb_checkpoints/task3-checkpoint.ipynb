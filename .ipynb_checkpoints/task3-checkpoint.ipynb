{
 "cells": [
  {
   "cell_type": "code",
   "execution_count": 1,
   "id": "14a62e4a-29f5-4c33-8ef6-21b70f46bccd",
   "metadata": {},
   "outputs": [],
   "source": [
    "import pandas as pd\n",
    "import numpy as np\n",
    "import matplotlib.pyplot as plt\n",
    "import seaborn as sns\n",
    "\n",
    "import warnings\n",
    "warnings.filterwarnings('ignore')\n",
    "\n",
    "pd.set_option('display.max_columns',None)\n",
    "pd.set_option('display.max_rows',None)"
   ]
  },
  {
   "cell_type": "code",
   "execution_count": 2,
   "id": "4019dab8-8799-4b53-bfbc-d09f19a9254b",
   "metadata": {},
   "outputs": [],
   "source": [
    "df = pd.read_csv('WA_Fn-UseC_-Telco-Customer-Churn.csv')"
   ]
  },
  {
   "cell_type": "code",
   "execution_count": 3,
   "id": "a1d209d9-3fd8-413f-8a49-1b75865cb4c0",
   "metadata": {},
   "outputs": [
    {
     "data": {
      "text/plain": [
       "(7043, 21)"
      ]
     },
     "execution_count": 3,
     "metadata": {},
     "output_type": "execute_result"
    }
   ],
   "source": [
    "df.shape"
   ]
  },
  {
   "cell_type": "code",
   "execution_count": 4,
   "id": "cc38648c-7fa6-434f-97c4-adfd559edbc4",
   "metadata": {},
   "outputs": [
    {
     "data": {
      "text/html": [
       "<div>\n",
       "<style scoped>\n",
       "    .dataframe tbody tr th:only-of-type {\n",
       "        vertical-align: middle;\n",
       "    }\n",
       "\n",
       "    .dataframe tbody tr th {\n",
       "        vertical-align: top;\n",
       "    }\n",
       "\n",
       "    .dataframe thead th {\n",
       "        text-align: right;\n",
       "    }\n",
       "</style>\n",
       "<table border=\"1\" class=\"dataframe\">\n",
       "  <thead>\n",
       "    <tr style=\"text-align: right;\">\n",
       "      <th></th>\n",
       "      <th>customerID</th>\n",
       "      <th>gender</th>\n",
       "      <th>SeniorCitizen</th>\n",
       "      <th>Partner</th>\n",
       "      <th>Dependents</th>\n",
       "      <th>tenure</th>\n",
       "      <th>PhoneService</th>\n",
       "      <th>MultipleLines</th>\n",
       "      <th>InternetService</th>\n",
       "      <th>OnlineSecurity</th>\n",
       "      <th>OnlineBackup</th>\n",
       "      <th>DeviceProtection</th>\n",
       "      <th>TechSupport</th>\n",
       "      <th>StreamingTV</th>\n",
       "      <th>StreamingMovies</th>\n",
       "      <th>Contract</th>\n",
       "      <th>PaperlessBilling</th>\n",
       "      <th>PaymentMethod</th>\n",
       "      <th>MonthlyCharges</th>\n",
       "      <th>TotalCharges</th>\n",
       "      <th>Churn</th>\n",
       "    </tr>\n",
       "  </thead>\n",
       "  <tbody>\n",
       "    <tr>\n",
       "      <th>2649</th>\n",
       "      <td>3027-YNWZU</td>\n",
       "      <td>Female</td>\n",
       "      <td>0</td>\n",
       "      <td>Yes</td>\n",
       "      <td>No</td>\n",
       "      <td>64</td>\n",
       "      <td>Yes</td>\n",
       "      <td>Yes</td>\n",
       "      <td>No</td>\n",
       "      <td>No internet service</td>\n",
       "      <td>No internet service</td>\n",
       "      <td>No internet service</td>\n",
       "      <td>No internet service</td>\n",
       "      <td>No internet service</td>\n",
       "      <td>No internet service</td>\n",
       "      <td>Two year</td>\n",
       "      <td>No</td>\n",
       "      <td>Credit card (automatic)</td>\n",
       "      <td>25.00</td>\n",
       "      <td>1584.8</td>\n",
       "      <td>No</td>\n",
       "    </tr>\n",
       "    <tr>\n",
       "      <th>3464</th>\n",
       "      <td>0410-IPFTY</td>\n",
       "      <td>Female</td>\n",
       "      <td>0</td>\n",
       "      <td>Yes</td>\n",
       "      <td>No</td>\n",
       "      <td>31</td>\n",
       "      <td>Yes</td>\n",
       "      <td>No</td>\n",
       "      <td>Fiber optic</td>\n",
       "      <td>No</td>\n",
       "      <td>Yes</td>\n",
       "      <td>No</td>\n",
       "      <td>No</td>\n",
       "      <td>No</td>\n",
       "      <td>Yes</td>\n",
       "      <td>Month-to-month</td>\n",
       "      <td>Yes</td>\n",
       "      <td>Bank transfer (automatic)</td>\n",
       "      <td>83.85</td>\n",
       "      <td>2674.15</td>\n",
       "      <td>No</td>\n",
       "    </tr>\n",
       "    <tr>\n",
       "      <th>4360</th>\n",
       "      <td>2675-OTVVJ</td>\n",
       "      <td>Male</td>\n",
       "      <td>1</td>\n",
       "      <td>Yes</td>\n",
       "      <td>No</td>\n",
       "      <td>31</td>\n",
       "      <td>Yes</td>\n",
       "      <td>Yes</td>\n",
       "      <td>Fiber optic</td>\n",
       "      <td>Yes</td>\n",
       "      <td>No</td>\n",
       "      <td>No</td>\n",
       "      <td>No</td>\n",
       "      <td>Yes</td>\n",
       "      <td>No</td>\n",
       "      <td>Month-to-month</td>\n",
       "      <td>No</td>\n",
       "      <td>Electronic check</td>\n",
       "      <td>89.45</td>\n",
       "      <td>2807.65</td>\n",
       "      <td>No</td>\n",
       "    </tr>\n",
       "    <tr>\n",
       "      <th>3133</th>\n",
       "      <td>3181-VTHOE</td>\n",
       "      <td>Male</td>\n",
       "      <td>0</td>\n",
       "      <td>Yes</td>\n",
       "      <td>No</td>\n",
       "      <td>70</td>\n",
       "      <td>No</td>\n",
       "      <td>No phone service</td>\n",
       "      <td>DSL</td>\n",
       "      <td>No</td>\n",
       "      <td>Yes</td>\n",
       "      <td>Yes</td>\n",
       "      <td>Yes</td>\n",
       "      <td>No</td>\n",
       "      <td>Yes</td>\n",
       "      <td>One year</td>\n",
       "      <td>Yes</td>\n",
       "      <td>Bank transfer (automatic)</td>\n",
       "      <td>51.05</td>\n",
       "      <td>3635.15</td>\n",
       "      <td>No</td>\n",
       "    </tr>\n",
       "    <tr>\n",
       "      <th>6653</th>\n",
       "      <td>8799-OXZMD</td>\n",
       "      <td>Female</td>\n",
       "      <td>0</td>\n",
       "      <td>No</td>\n",
       "      <td>No</td>\n",
       "      <td>28</td>\n",
       "      <td>No</td>\n",
       "      <td>No phone service</td>\n",
       "      <td>DSL</td>\n",
       "      <td>No</td>\n",
       "      <td>No</td>\n",
       "      <td>Yes</td>\n",
       "      <td>No</td>\n",
       "      <td>No</td>\n",
       "      <td>No</td>\n",
       "      <td>Month-to-month</td>\n",
       "      <td>Yes</td>\n",
       "      <td>Mailed check</td>\n",
       "      <td>29.75</td>\n",
       "      <td>790.7</td>\n",
       "      <td>No</td>\n",
       "    </tr>\n",
       "  </tbody>\n",
       "</table>\n",
       "</div>"
      ],
      "text/plain": [
       "      customerID  gender  SeniorCitizen Partner Dependents  tenure  \\\n",
       "2649  3027-YNWZU  Female              0     Yes         No      64   \n",
       "3464  0410-IPFTY  Female              0     Yes         No      31   \n",
       "4360  2675-OTVVJ    Male              1     Yes         No      31   \n",
       "3133  3181-VTHOE    Male              0     Yes         No      70   \n",
       "6653  8799-OXZMD  Female              0      No         No      28   \n",
       "\n",
       "     PhoneService     MultipleLines InternetService       OnlineSecurity  \\\n",
       "2649          Yes               Yes              No  No internet service   \n",
       "3464          Yes                No     Fiber optic                   No   \n",
       "4360          Yes               Yes     Fiber optic                  Yes   \n",
       "3133           No  No phone service             DSL                   No   \n",
       "6653           No  No phone service             DSL                   No   \n",
       "\n",
       "             OnlineBackup     DeviceProtection          TechSupport  \\\n",
       "2649  No internet service  No internet service  No internet service   \n",
       "3464                  Yes                   No                   No   \n",
       "4360                   No                   No                   No   \n",
       "3133                  Yes                  Yes                  Yes   \n",
       "6653                   No                  Yes                   No   \n",
       "\n",
       "              StreamingTV      StreamingMovies        Contract  \\\n",
       "2649  No internet service  No internet service        Two year   \n",
       "3464                   No                  Yes  Month-to-month   \n",
       "4360                  Yes                   No  Month-to-month   \n",
       "3133                   No                  Yes        One year   \n",
       "6653                   No                   No  Month-to-month   \n",
       "\n",
       "     PaperlessBilling              PaymentMethod  MonthlyCharges TotalCharges  \\\n",
       "2649               No    Credit card (automatic)           25.00       1584.8   \n",
       "3464              Yes  Bank transfer (automatic)           83.85      2674.15   \n",
       "4360               No           Electronic check           89.45      2807.65   \n",
       "3133              Yes  Bank transfer (automatic)           51.05      3635.15   \n",
       "6653              Yes               Mailed check           29.75        790.7   \n",
       "\n",
       "     Churn  \n",
       "2649    No  \n",
       "3464    No  \n",
       "4360    No  \n",
       "3133    No  \n",
       "6653    No  "
      ]
     },
     "execution_count": 4,
     "metadata": {},
     "output_type": "execute_result"
    }
   ],
   "source": [
    "df.sample(5)"
   ]
  },
  {
   "cell_type": "code",
   "execution_count": 5,
   "id": "f75a64c5-fddc-4c02-bc92-95ce60166e94",
   "metadata": {},
   "outputs": [
    {
     "name": "stdout",
     "output_type": "stream",
     "text": [
      "<class 'pandas.core.frame.DataFrame'>\n",
      "RangeIndex: 7043 entries, 0 to 7042\n",
      "Data columns (total 21 columns):\n",
      " #   Column            Non-Null Count  Dtype  \n",
      "---  ------            --------------  -----  \n",
      " 0   customerID        7043 non-null   object \n",
      " 1   gender            7043 non-null   object \n",
      " 2   SeniorCitizen     7043 non-null   int64  \n",
      " 3   Partner           7043 non-null   object \n",
      " 4   Dependents        7043 non-null   object \n",
      " 5   tenure            7043 non-null   int64  \n",
      " 6   PhoneService      7043 non-null   object \n",
      " 7   MultipleLines     7043 non-null   object \n",
      " 8   InternetService   7043 non-null   object \n",
      " 9   OnlineSecurity    7043 non-null   object \n",
      " 10  OnlineBackup      7043 non-null   object \n",
      " 11  DeviceProtection  7043 non-null   object \n",
      " 12  TechSupport       7043 non-null   object \n",
      " 13  StreamingTV       7043 non-null   object \n",
      " 14  StreamingMovies   7043 non-null   object \n",
      " 15  Contract          7043 non-null   object \n",
      " 16  PaperlessBilling  7043 non-null   object \n",
      " 17  PaymentMethod     7043 non-null   object \n",
      " 18  MonthlyCharges    7043 non-null   float64\n",
      " 19  TotalCharges      7043 non-null   object \n",
      " 20  Churn             7043 non-null   object \n",
      "dtypes: float64(1), int64(2), object(18)\n",
      "memory usage: 1.1+ MB\n"
     ]
    }
   ],
   "source": [
    "df.info()"
   ]
  },
  {
   "cell_type": "code",
   "execution_count": 6,
   "id": "08ae7e7c-3b49-4e47-95de-13a3601d1569",
   "metadata": {},
   "outputs": [
    {
     "data": {
      "text/plain": [
       "Index(['customerID', 'gender', 'SeniorCitizen', 'Partner', 'Dependents',\n",
       "       'tenure', 'PhoneService', 'MultipleLines', 'InternetService',\n",
       "       'OnlineSecurity', 'OnlineBackup', 'DeviceProtection', 'TechSupport',\n",
       "       'StreamingTV', 'StreamingMovies', 'Contract', 'PaperlessBilling',\n",
       "       'PaymentMethod', 'MonthlyCharges', 'TotalCharges', 'Churn'],\n",
       "      dtype='object')"
      ]
     },
     "execution_count": 6,
     "metadata": {},
     "output_type": "execute_result"
    }
   ],
   "source": [
    "df.columns"
   ]
  },
  {
   "cell_type": "code",
   "execution_count": 7,
   "id": "2d40abdc-c24a-4724-a0c8-a20a97fc1ac6",
   "metadata": {},
   "outputs": [
    {
     "data": {
      "text/plain": [
       "Churn\n",
       "No     5174\n",
       "Yes    1869\n",
       "Name: count, dtype: int64"
      ]
     },
     "execution_count": 7,
     "metadata": {},
     "output_type": "execute_result"
    }
   ],
   "source": [
    "df.value_counts('Churn').sort_index()"
   ]
  },
  {
   "cell_type": "code",
   "execution_count": 8,
   "id": "64095e4d-0361-403c-a861-015bfe463aab",
   "metadata": {},
   "outputs": [
    {
     "name": "stdout",
     "output_type": "stream",
     "text": [
      "Dependents\n",
      "No     4933\n",
      "Yes    2110\n",
      "Name: count, dtype: int64\n",
      "PhoneService\n",
      "No      682\n",
      "Yes    6361\n",
      "Name: count, dtype: int64\n",
      "MultipleLines\n",
      "No                  3390\n",
      "No phone service     682\n",
      "Yes                 2971\n",
      "Name: count, dtype: int64\n",
      "InternetService\n",
      "DSL            2421\n",
      "Fiber optic    3096\n",
      "No             1526\n",
      "Name: count, dtype: int64\n",
      "OnlineSecurity\n",
      "No                     3498\n",
      "No internet service    1526\n",
      "Yes                    2019\n",
      "Name: count, dtype: int64\n",
      "OnlineBackup\n",
      "No                     3088\n",
      "No internet service    1526\n",
      "Yes                    2429\n",
      "Name: count, dtype: int64\n",
      "PaymentMethod\n",
      "Bank transfer (automatic)    1544\n",
      "Credit card (automatic)      1522\n",
      "Electronic check             2365\n",
      "Mailed check                 1612\n",
      "Name: count, dtype: int64\n"
     ]
    }
   ],
   "source": [
    "print(df.value_counts('Dependents').sort_index())\n",
    "print(df.value_counts('PhoneService').sort_index())\n",
    "print(df.value_counts('MultipleLines').sort_index())\n",
    "print(df.value_counts('InternetService').sort_index())\n",
    "print(df.value_counts('OnlineSecurity').sort_index())\n",
    "print(df.value_counts('OnlineBackup').sort_index())\n",
    "print(df.value_counts('PaymentMethod').sort_index())"
   ]
  },
  {
   "cell_type": "code",
   "execution_count": 9,
   "id": "03f3e213-cb8d-4469-984e-ab05ee30bbba",
   "metadata": {},
   "outputs": [],
   "source": [
    "df.drop('customerID', axis = 1, inplace = True)"
   ]
  },
  {
   "cell_type": "code",
   "execution_count": 10,
   "id": "a17e9a08-3606-4918-b8d3-cf92039be35c",
   "metadata": {},
   "outputs": [
    {
     "data": {
      "text/plain": [
       "gender              0\n",
       "SeniorCitizen       0\n",
       "Partner             0\n",
       "Dependents          0\n",
       "tenure              0\n",
       "PhoneService        0\n",
       "MultipleLines       0\n",
       "InternetService     0\n",
       "OnlineSecurity      0\n",
       "OnlineBackup        0\n",
       "DeviceProtection    0\n",
       "TechSupport         0\n",
       "StreamingTV         0\n",
       "StreamingMovies     0\n",
       "Contract            0\n",
       "PaperlessBilling    0\n",
       "PaymentMethod       0\n",
       "MonthlyCharges      0\n",
       "TotalCharges        0\n",
       "Churn               0\n",
       "dtype: int64"
      ]
     },
     "execution_count": 10,
     "metadata": {},
     "output_type": "execute_result"
    }
   ],
   "source": [
    "df.isnull().sum()"
   ]
  },
  {
   "cell_type": "code",
   "execution_count": 11,
   "id": "f1073e74-dd7f-449c-a0ec-b583b6a25d60",
   "metadata": {},
   "outputs": [],
   "source": [
    "from sklearn.model_selection import KFold, train_test_split\n",
    "\n",
    "# Split the dataset into training and testing sets\n",
    "train_set, test_set = train_test_split(df, test_size=0.2, random_state=11)"
   ]
  },
  {
   "cell_type": "code",
   "execution_count": 12,
   "id": "701b2fcb-3758-4eb4-9f88-31b4d465ed8f",
   "metadata": {},
   "outputs": [
    {
     "data": {
      "text/plain": [
       "(1409, 20)"
      ]
     },
     "execution_count": 12,
     "metadata": {},
     "output_type": "execute_result"
    }
   ],
   "source": [
    "test_set.shape"
   ]
  },
  {
   "cell_type": "code",
   "execution_count": 13,
   "id": "bdeeb9c5-f400-4de7-9f76-667b5ea85abb",
   "metadata": {},
   "outputs": [
    {
     "name": "stdout",
     "output_type": "stream",
     "text": [
      "Churn\n",
      "No     0.748227\n",
      "Yes    0.251773\n",
      "Name: count, dtype: float64\n"
     ]
    }
   ],
   "source": [
    "# Initialize K-Fold with the desired number of splits\n",
    "kfold = KFold(n_splits=10, random_state=42, shuffle=True)\n",
    "\n",
    "# Create a list to hold the K-Fold splits\n",
    "kfold_splits = []\n",
    "\n",
    "# Perform K-Fold splitting on the training set\n",
    "for train_index, val_index in kfold.split(train_set, train_set['Churn']):\n",
    "    kfold_train_set = train_set.iloc[train_index]\n",
    "    kfold_val_set = train_set.iloc[val_index]\n",
    "    kfold_splits.append([kfold_train_set, kfold_val_set])\n",
    "\n",
    "# Example: To check the value counts of 'price' in the first K-Fold validation set\n",
    "print(kfold_splits[0][1]['Churn'].value_counts() / len(kfold_splits[0][1]))\n",
    "\n",
    "strat_train_set, strat_test_set = kfold_splits[0]\n",
    "customer = strat_train_set.copy()"
   ]
  },
  {
   "cell_type": "code",
   "execution_count": 14,
   "id": "6c989f1f-e7d9-4f00-b08d-50ea8c969f77",
   "metadata": {},
   "outputs": [
    {
     "name": "stdout",
     "output_type": "stream",
     "text": [
      "<class 'pandas.core.frame.DataFrame'>\n",
      "Index: 5070 entries, 5305 to 1945\n",
      "Data columns (total 20 columns):\n",
      " #   Column            Non-Null Count  Dtype  \n",
      "---  ------            --------------  -----  \n",
      " 0   gender            5070 non-null   object \n",
      " 1   SeniorCitizen     5070 non-null   int64  \n",
      " 2   Partner           5070 non-null   object \n",
      " 3   Dependents        5070 non-null   object \n",
      " 4   tenure            5070 non-null   int64  \n",
      " 5   PhoneService      5070 non-null   object \n",
      " 6   MultipleLines     5070 non-null   object \n",
      " 7   InternetService   5070 non-null   object \n",
      " 8   OnlineSecurity    5070 non-null   object \n",
      " 9   OnlineBackup      5070 non-null   object \n",
      " 10  DeviceProtection  5070 non-null   object \n",
      " 11  TechSupport       5070 non-null   object \n",
      " 12  StreamingTV       5070 non-null   object \n",
      " 13  StreamingMovies   5070 non-null   object \n",
      " 14  Contract          5070 non-null   object \n",
      " 15  PaperlessBilling  5070 non-null   object \n",
      " 16  PaymentMethod     5070 non-null   object \n",
      " 17  MonthlyCharges    5070 non-null   float64\n",
      " 18  TotalCharges      5070 non-null   object \n",
      " 19  Churn             5070 non-null   object \n",
      "dtypes: float64(1), int64(2), object(17)\n",
      "memory usage: 831.8+ KB\n"
     ]
    }
   ],
   "source": [
    "customer.info()"
   ]
  },
  {
   "cell_type": "code",
   "execution_count": 15,
   "id": "8632fdcf-2cea-4af7-bffe-5fb0c28a2db1",
   "metadata": {},
   "outputs": [
    {
     "data": {
      "text/plain": [
       "Index(['gender', 'SeniorCitizen', 'Partner', 'Dependents', 'tenure',\n",
       "       'PhoneService', 'MultipleLines', 'InternetService', 'OnlineSecurity',\n",
       "       'OnlineBackup', 'DeviceProtection', 'TechSupport', 'StreamingTV',\n",
       "       'StreamingMovies', 'Contract', 'PaperlessBilling', 'PaymentMethod',\n",
       "       'MonthlyCharges', 'TotalCharges', 'Churn'],\n",
       "      dtype='object')"
      ]
     },
     "execution_count": 15,
     "metadata": {},
     "output_type": "execute_result"
    }
   ],
   "source": [
    "customer.columns"
   ]
  },
  {
   "cell_type": "code",
   "execution_count": 16,
   "id": "a0c79cef-2d35-4df0-b437-feced8a43ae5",
   "metadata": {},
   "outputs": [
    {
     "name": "stdout",
     "output_type": "stream",
     "text": [
      "PhoneService\n",
      "No      489\n",
      "Yes    4581\n",
      "Name: count, dtype: int64\n",
      "MultipleLines\n",
      "No                  2422\n",
      "No phone service     489\n",
      "Yes                 2159\n",
      "Name: count, dtype: int64\n",
      "InternetService\n",
      "DSL            1742\n",
      "Fiber optic    2235\n",
      "No             1093\n",
      "Name: count, dtype: int64\n",
      "OnlineSecurity\n",
      "No                     2540\n",
      "No internet service    1093\n",
      "Yes                    1437\n",
      "Name: count, dtype: int64\n",
      "OnlineBackup\n",
      "No                     2231\n",
      "No internet service    1093\n",
      "Yes                    1746\n",
      "Name: count, dtype: int64\n",
      "DeviceProtection\n",
      "No                     2215\n",
      "No internet service    1093\n",
      "Yes                    1762\n",
      "Name: count, dtype: int64\n",
      "TechSupport\n",
      "No                     2511\n",
      "No internet service    1093\n",
      "Yes                    1466\n",
      "Name: count, dtype: int64\n",
      "StreamingTV\n",
      "No                     2038\n",
      "No internet service    1093\n",
      "Yes                    1939\n",
      "Name: count, dtype: int64\n",
      "StreamingMovies\n",
      "No                     2005\n",
      "No internet service    1093\n",
      "Yes                    1972\n",
      "Name: count, dtype: int64\n",
      "Contract\n",
      "Month-to-month    2779\n",
      "One year          1073\n",
      "Two year          1218\n",
      "Name: count, dtype: int64\n",
      "PaperlessBilling\n",
      "No     2053\n",
      "Yes    3017\n",
      "Name: count, dtype: int64\n",
      "PaymentMethod\n",
      "Bank transfer (automatic)    1114\n",
      "Credit card (automatic)      1104\n",
      "Electronic check             1682\n",
      "Mailed check                 1170\n",
      "Name: count, dtype: int64\n"
     ]
    }
   ],
   "source": [
    "print(customer.value_counts('PhoneService').sort_index())\n",
    "print(customer.value_counts('MultipleLines').sort_index())\n",
    "print(customer.value_counts('InternetService').sort_index())\n",
    "print(customer.value_counts('OnlineSecurity').sort_index())\n",
    "print(customer.value_counts('OnlineBackup').sort_index())\n",
    "print(customer.value_counts('DeviceProtection').sort_index())\n",
    "print(customer.value_counts('TechSupport').sort_index())\n",
    "print(customer.value_counts('StreamingTV').sort_index())\n",
    "print(customer.value_counts('StreamingMovies').sort_index())\n",
    "print(customer.value_counts('Contract').sort_index())\n",
    "print(customer.value_counts('PaperlessBilling').sort_index())\n",
    "print(customer.value_counts('PaymentMethod').sort_index())"
   ]
  },
  {
   "cell_type": "code",
   "execution_count": 17,
   "id": "bd5f311f-e18a-45df-98e0-4a4ffa77e717",
   "metadata": {},
   "outputs": [
    {
     "data": {
      "image/png": "[encoded data removed]",
      "text/plain": [
       "<Figure size 1500x1200 with 12 Axes>"
      ]
     },
     "metadata": {},
     "output_type": "display_data"
    }
   ],
   "source": [
    "attributes = [\n",
    "    'PhoneService', 'MultipleLines', 'InternetService', 'OnlineSecurity',\n",
    "    'OnlineBackup', 'DeviceProtection', 'TechSupport', 'StreamingTV',\n",
    "    'StreamingMovies', 'Contract', 'PaperlessBilling', 'PaymentMethod'\n",
    "]\n",
    "\n",
    "# Set up the matplotlib figure\n",
    "fig, axes = plt.subplots(nrows=4, ncols=3, figsize=(15, 12))\n",
    "fig.suptitle('Histograms of Churn by Attribute', fontsize=16)\n",
    "\n",
    "# Plot each attribute as a histogram in the subplot grid\n",
    "for i, attribute in enumerate(attributes):\n",
    "    row = i // 3\n",
    "    col = i % 3\n",
    "    sns.histplot(data=customer, x=attribute, hue='Churn', multiple='stack', ax=axes[row, col])\n",
    "    axes[row, col].set_title(attribute)\n",
    "    axes[row, col].set_xlabel('')\n",
    "\n",
    "# Adjust layout\n",
    "plt.tight_layout(rect=[0, 0, 1, 0.96])\n",
    "plt.show()"
   ]
  },
  {
   "cell_type": "code",
   "execution_count": 18,
   "id": "bc2edbbe-1da8-453f-8702-2b2725fde84b",
   "metadata": {},
   "outputs": [],
   "source": [
    "customer = strat_train_set.drop(\"Churn\", axis=1)\n",
    "customer_labels = strat_train_set[\"Churn\"].copy()"
   ]
  },
  {
   "cell_type": "code",
   "execution_count": 19,
   "id": "bf67a8c1-4efe-447a-aa14-045e87088894",
   "metadata": {},
   "outputs": [
    {
     "name": "stdout",
     "output_type": "stream",
     "text": [
      "<class 'pandas.core.frame.DataFrame'>\n",
      "Index: 5070 entries, 5305 to 1945\n",
      "Data columns (total 19 columns):\n",
      " #   Column            Non-Null Count  Dtype  \n",
      "---  ------            --------------  -----  \n",
      " 0   gender            5070 non-null   object \n",
      " 1   SeniorCitizen     5070 non-null   int64  \n",
      " 2   Partner           5070 non-null   object \n",
      " 3   Dependents        5070 non-null   object \n",
      " 4   tenure            5070 non-null   int64  \n",
      " 5   PhoneService      5070 non-null   object \n",
      " 6   MultipleLines     5070 non-null   object \n",
      " 7   InternetService   5070 non-null   object \n",
      " 8   OnlineSecurity    5070 non-null   object \n",
      " 9   OnlineBackup      5070 non-null   object \n",
      " 10  DeviceProtection  5070 non-null   object \n",
      " 11  TechSupport       5070 non-null   object \n",
      " 12  StreamingTV       5070 non-null   object \n",
      " 13  StreamingMovies   5070 non-null   object \n",
      " 14  Contract          5070 non-null   object \n",
      " 15  PaperlessBilling  5070 non-null   object \n",
      " 16  PaymentMethod     5070 non-null   object \n",
      " 17  MonthlyCharges    5070 non-null   float64\n",
      " 18  TotalCharges      5070 non-null   object \n",
      "dtypes: float64(1), int64(2), object(16)\n",
      "memory usage: 792.2+ KB\n"
     ]
    }
   ],
   "source": [
    "customer.info()"
   ]
  },
  {
   "cell_type": "code",
   "execution_count": 20,
   "id": "344bec64-ccb3-426d-b5a5-de343c60ac41",
   "metadata": {},
   "outputs": [
    {
     "data": {
      "text/html": [
       "<div>\n",
       "<style scoped>\n",
       "    .dataframe tbody tr th:only-of-type {\n",
       "        vertical-align: middle;\n",
       "    }\n",
       "\n",
       "    .dataframe tbody tr th {\n",
       "        vertical-align: top;\n",
       "    }\n",
       "\n",
       "    .dataframe thead th {\n",
       "        text-align: right;\n",
       "    }\n",
       "</style>\n",
       "<table border=\"1\" class=\"dataframe\">\n",
       "  <thead>\n",
       "    <tr style=\"text-align: right;\">\n",
       "      <th></th>\n",
       "      <th>gender</th>\n",
       "      <th>SeniorCitizen</th>\n",
       "      <th>Partner</th>\n",
       "      <th>Dependents</th>\n",
       "      <th>tenure</th>\n",
       "      <th>PhoneService</th>\n",
       "      <th>MultipleLines</th>\n",
       "      <th>InternetService</th>\n",
       "      <th>OnlineSecurity</th>\n",
       "      <th>OnlineBackup</th>\n",
       "      <th>DeviceProtection</th>\n",
       "      <th>TechSupport</th>\n",
       "      <th>StreamingTV</th>\n",
       "      <th>StreamingMovies</th>\n",
       "      <th>Contract</th>\n",
       "      <th>PaperlessBilling</th>\n",
       "      <th>PaymentMethod</th>\n",
       "      <th>MonthlyCharges</th>\n",
       "      <th>TotalCharges</th>\n",
       "    </tr>\n",
       "  </thead>\n",
       "  <tbody>\n",
       "    <tr>\n",
       "      <th>109</th>\n",
       "      <td>1</td>\n",
       "      <td>0</td>\n",
       "      <td>1</td>\n",
       "      <td>1</td>\n",
       "      <td>72</td>\n",
       "      <td>1</td>\n",
       "      <td>0</td>\n",
       "      <td>2</td>\n",
       "      <td>1</td>\n",
       "      <td>1</td>\n",
       "      <td>1</td>\n",
       "      <td>1</td>\n",
       "      <td>1</td>\n",
       "      <td>1</td>\n",
       "      <td>2</td>\n",
       "      <td>0</td>\n",
       "      <td>1</td>\n",
       "      <td>19.40</td>\n",
       "      <td>1363.25</td>\n",
       "    </tr>\n",
       "    <tr>\n",
       "      <th>1776</th>\n",
       "      <td>1</td>\n",
       "      <td>1</td>\n",
       "      <td>1</td>\n",
       "      <td>0</td>\n",
       "      <td>72</td>\n",
       "      <td>1</td>\n",
       "      <td>2</td>\n",
       "      <td>2</td>\n",
       "      <td>1</td>\n",
       "      <td>1</td>\n",
       "      <td>1</td>\n",
       "      <td>1</td>\n",
       "      <td>1</td>\n",
       "      <td>1</td>\n",
       "      <td>2</td>\n",
       "      <td>1</td>\n",
       "      <td>0</td>\n",
       "      <td>25.00</td>\n",
       "      <td>1802.55</td>\n",
       "    </tr>\n",
       "    <tr>\n",
       "      <th>4640</th>\n",
       "      <td>1</td>\n",
       "      <td>0</td>\n",
       "      <td>1</td>\n",
       "      <td>1</td>\n",
       "      <td>1</td>\n",
       "      <td>1</td>\n",
       "      <td>0</td>\n",
       "      <td>1</td>\n",
       "      <td>0</td>\n",
       "      <td>0</td>\n",
       "      <td>0</td>\n",
       "      <td>0</td>\n",
       "      <td>0</td>\n",
       "      <td>0</td>\n",
       "      <td>0</td>\n",
       "      <td>1</td>\n",
       "      <td>2</td>\n",
       "      <td>70.00</td>\n",
       "      <td>70</td>\n",
       "    </tr>\n",
       "    <tr>\n",
       "      <th>4959</th>\n",
       "      <td>0</td>\n",
       "      <td>0</td>\n",
       "      <td>1</td>\n",
       "      <td>1</td>\n",
       "      <td>1</td>\n",
       "      <td>1</td>\n",
       "      <td>0</td>\n",
       "      <td>2</td>\n",
       "      <td>1</td>\n",
       "      <td>1</td>\n",
       "      <td>1</td>\n",
       "      <td>1</td>\n",
       "      <td>1</td>\n",
       "      <td>1</td>\n",
       "      <td>0</td>\n",
       "      <td>1</td>\n",
       "      <td>1</td>\n",
       "      <td>20.15</td>\n",
       "      <td>20.15</td>\n",
       "    </tr>\n",
       "    <tr>\n",
       "      <th>6848</th>\n",
       "      <td>0</td>\n",
       "      <td>0</td>\n",
       "      <td>1</td>\n",
       "      <td>0</td>\n",
       "      <td>2</td>\n",
       "      <td>1</td>\n",
       "      <td>0</td>\n",
       "      <td>0</td>\n",
       "      <td>0</td>\n",
       "      <td>0</td>\n",
       "      <td>2</td>\n",
       "      <td>0</td>\n",
       "      <td>2</td>\n",
       "      <td>2</td>\n",
       "      <td>0</td>\n",
       "      <td>0</td>\n",
       "      <td>1</td>\n",
       "      <td>69.00</td>\n",
       "      <td>147.8</td>\n",
       "    </tr>\n",
       "  </tbody>\n",
       "</table>\n",
       "</div>"
      ],
      "text/plain": [
       "      gender  SeniorCitizen  Partner  Dependents  tenure  PhoneService  \\\n",
       "109        1              0        1           1      72             1   \n",
       "1776       1              1        1           0      72             1   \n",
       "4640       1              0        1           1       1             1   \n",
       "4959       0              0        1           1       1             1   \n",
       "6848       0              0        1           0       2             1   \n",
       "\n",
       "      MultipleLines  InternetService  OnlineSecurity  OnlineBackup  \\\n",
       "109               0                2               1             1   \n",
       "1776              2                2               1             1   \n",
       "4640              0                1               0             0   \n",
       "4959              0                2               1             1   \n",
       "6848              0                0               0             0   \n",
       "\n",
       "      DeviceProtection  TechSupport  StreamingTV  StreamingMovies  Contract  \\\n",
       "109                  1            1            1                1         2   \n",
       "1776                 1            1            1                1         2   \n",
       "4640                 0            0            0                0         0   \n",
       "4959                 1            1            1                1         0   \n",
       "6848                 2            0            2                2         0   \n",
       "\n",
       "      PaperlessBilling  PaymentMethod  MonthlyCharges TotalCharges  \n",
       "109                  0              1           19.40      1363.25  \n",
       "1776                 1              0           25.00      1802.55  \n",
       "4640                 1              2           70.00           70  \n",
       "4959                 1              1           20.15        20.15  \n",
       "6848                 0              1           69.00        147.8  "
      ]
     },
     "execution_count": 20,
     "metadata": {},
     "output_type": "execute_result"
    }
   ],
   "source": [
    "from sklearn.preprocessing import LabelEncoder\n",
    "\n",
    "columns_to_encode = [\n",
    "    'PhoneService', 'MultipleLines', 'InternetService', 'OnlineSecurity',\n",
    "    'OnlineBackup', 'DeviceProtection', 'TechSupport', 'StreamingTV',\n",
    "    'StreamingMovies', 'Contract', 'PaperlessBilling', 'PaymentMethod',\n",
    "    'gender', 'Partner', 'Dependents', 'InternetService'\n",
    "]\n",
    "\n",
    "# Initialize the LabelEncoder\n",
    "label_encoders = {}\n",
    "\n",
    "# Apply LabelEncoder to each column\n",
    "for column in columns_to_encode:\n",
    "    le = LabelEncoder()\n",
    "    customer[column] = le.fit_transform(customer[column])\n",
    "    label_encoders[column] = le  # Save the label encoder for inverse_transform if needed\n",
    "\n",
    "customer.sample(5)"
   ]
  },
  {
   "cell_type": "code",
   "execution_count": 44,
   "id": "98127f38-aa4d-4f1e-a408-8e62d4f06e8d",
   "metadata": {},
   "outputs": [
    {
     "name": "stdout",
     "output_type": "stream",
     "text": [
      "Dropped indices: Index([488, 753, 936, 1082, 3331, 5218, 6754], dtype='int64')\n",
      "0\n",
      "0\n"
     ]
    }
   ],
   "source": [
    "# Replace empty strings with NaN and convert to numeric\n",
    "customer['TotalCharges'] = customer['TotalCharges'].replace('', np.nan)\n",
    "customer['TotalCharges'] = pd.to_numeric(customer['TotalCharges'], errors='coerce')\n",
    "\n",
    "# Drop rows with NaN values in TotalCharges\n",
    "customer_cleaned = customer.dropna(subset=['TotalCharges'])\n",
    "\n",
    "# Identify dropped indices\n",
    "dropped_indices = customer.index.difference(customer_cleaned.index)\n",
    "\n",
    "print(\"Dropped indices:\", dropped_indices)\n",
    "\n",
    "# Drop the same indices from customer_labels without inplace=True\n",
    "customer_labels.drop(index=dropped_indices, inplace = True)\n",
    "customer.drop(index=dropped_indices, inplace = True)\n",
    "\n",
    "# Verify the missing values are handled\n",
    "print(customer['TotalCharges'].isna().sum())  # Should be 0\n",
    "print(customer_labels.isna().sum())  # Should be 0"
   ]
  },
  {
   "cell_type": "code",
   "execution_count": 48,
   "id": "58ba807d-3de5-4378-88cc-77629224ceeb",
   "metadata": {},
   "outputs": [
    {
     "name": "stdout",
     "output_type": "stream",
     "text": [
      "Customer DataFrame shape: (5063, 19)\n",
      "Customer Labels DataFrame shape: (5063,)\n"
     ]
    }
   ],
   "source": [
    "print(\"Customer DataFrame shape:\", customer.shape)\n",
    "print(\"Customer Labels DataFrame shape:\", customer_labels.shape)"
   ]
  },
  {
   "cell_type": "code",
   "execution_count": 50,
   "id": "38edb55a-54cd-440c-8eb8-c545fcfa467e",
   "metadata": {},
   "outputs": [
    {
     "data": {
      "text/plain": [
       "0.9976298637171638"
      ]
     },
     "execution_count": 50,
     "metadata": {},
     "output_type": "execute_result"
    }
   ],
   "source": [
    "from sklearn.tree import DecisionTreeClassifier\n",
    "\n",
    "tree = DecisionTreeClassifier(random_state = 42)\n",
    "DT_model = tree.fit(customer, customer_labels)\n",
    "\n",
    "customer_predictions = tree.predict(customer)\n",
    "\n",
    "from sklearn import metrics\n",
    "DT_accuracy = metrics.accuracy_score(customer_predictions, customer_labels)\n",
    "DT_accuracy"
   ]
  },
  {
   "cell_type": "code",
   "execution_count": 52,
   "id": "6e9e9333-15c0-4028-9a0d-bd31b6310834",
   "metadata": {},
   "outputs": [
    {
     "data": {
      "text/plain": [
       "0.9976298637171638"
      ]
     },
     "execution_count": 52,
     "metadata": {},
     "output_type": "execute_result"
    }
   ],
   "source": [
    "from sklearn.ensemble import RandomForestClassifier\n",
    "\n",
    "RFclass = RandomForestClassifier()\n",
    "RFmode = RFclass.fit(customer, customer_labels)\n",
    "\n",
    "employee_predictions = RFclass.predict(customer)\n",
    "RF_accuracy = metrics.accuracy_score(customer_predictions, customer_labels)\n",
    "RF_accuracy"
   ]
  },
  {
   "cell_type": "code",
   "execution_count": 54,
   "id": "d6c35153-7c03-4ecf-a217-2036adfe817a",
   "metadata": {},
   "outputs": [
    {
     "data": {
      "text/plain": [
       "count    10.000000\n",
       "mean     -0.723099\n",
       "std       0.026312\n",
       "min      -0.750988\n",
       "25%      -0.747410\n",
       "50%      -0.721344\n",
       "75%      -0.709980\n",
       "max      -0.672584\n",
       "dtype: float64"
      ]
     },
     "execution_count": 54,
     "metadata": {},
     "output_type": "execute_result"
    }
   ],
   "source": [
    "from sklearn.model_selection import cross_val_score\n",
    "\n",
    "DF_rmses = -cross_val_score(tree, customer, customer_labels, scoring=\"accuracy\", cv=10)\n",
    "pd.Series(DF_rmses).describe()"
   ]
  },
  {
   "cell_type": "code",
   "execution_count": 56,
   "id": "c4e5a4d0-6f7f-473a-8fe6-b5e7018b3762",
   "metadata": {},
   "outputs": [
    {
     "data": {
      "text/plain": [
       "count    10.000000\n",
       "mean     -0.788270\n",
       "std       0.014198\n",
       "min      -0.812253\n",
       "25%      -0.798419\n",
       "50%      -0.788538\n",
       "75%      -0.775641\n",
       "max      -0.770751\n",
       "dtype: float64"
      ]
     },
     "execution_count": 56,
     "metadata": {},
     "output_type": "execute_result"
    }
   ],
   "source": [
    "RF_rmses = -cross_val_score(RFclass, customer, customer_labels, scoring=\"accuracy\", cv=10)\n",
    "pd.Series(RF_rmses).describe()"
   ]
  },
  {
   "cell_type": "code",
   "execution_count": 58,
   "id": "cb07e092-4d48-41bf-a19a-2d548da63a77",
   "metadata": {},
   "outputs": [
    {
     "data": {
      "text/plain": [
       "0.9976298637171638"
      ]
     },
     "execution_count": 58,
     "metadata": {},
     "output_type": "execute_result"
    }
   ],
   "source": [
    "from sklearn.ensemble import ExtraTreesClassifier\n",
    "\n",
    "ETclass = ExtraTreesClassifier()\n",
    "ETmode = ETclass.fit(customer, customer_labels)\n",
    "\n",
    "customer_predictions = ETclass.predict(customer)\n",
    "ET_accuracy = metrics.accuracy_score(customer_predictions, customer_labels)\n",
    "ET_accuracy"
   ]
  },
  {
   "cell_type": "code",
   "execution_count": 60,
   "id": "12d68f8a-d854-438e-b793-843dc75a8af6",
   "metadata": {},
   "outputs": [
    {
     "data": {
      "text/plain": [
       "count    10.000000\n",
       "mean     -0.779577\n",
       "std       0.011376\n",
       "min      -0.798419\n",
       "25%      -0.789526\n",
       "50%      -0.776900\n",
       "75%      -0.771584\n",
       "max      -0.764822\n",
       "dtype: float64"
      ]
     },
     "execution_count": 60,
     "metadata": {},
     "output_type": "execute_result"
    }
   ],
   "source": [
    "ET_rmses = -cross_val_score(ETclass, customer, customer_labels, scoring=\"accuracy\", cv=10)\n",
    "pd.Series(ET_rmses).describe()"
   ]
  },
  {
   "cell_type": "code",
   "execution_count": 62,
   "id": "f76553bb-634d-4ca6-954d-e8a27e4e1ed6",
   "metadata": {},
   "outputs": [
    {
     "data": {
      "text/plain": [
       "0.8323128579893344"
      ]
     },
     "execution_count": 62,
     "metadata": {},
     "output_type": "execute_result"
    }
   ],
   "source": [
    "from sklearn.ensemble import GradientBoostingClassifier\n",
    "\n",
    "GBclass = GradientBoostingClassifier()\n",
    "GBmode = GBclass.fit(customer, customer_labels)\n",
    "\n",
    "customer_predictions = GBclass.predict(customer)\n",
    "GB_accuracy = metrics.accuracy_score(customer_predictions, customer_labels)\n",
    "GB_accuracy"
   ]
  },
  {
   "cell_type": "code",
   "execution_count": 64,
   "id": "93a3d6c9-b08c-4bae-97f3-1862f87d1dc0",
   "metadata": {},
   "outputs": [
    {
     "data": {
      "text/plain": [
       "count    10.000000\n",
       "mean     -0.804860\n",
       "std       0.010371\n",
       "min      -0.818182\n",
       "25%      -0.814723\n",
       "50%      -0.803748\n",
       "75%      -0.795554\n",
       "max      -0.792490\n",
       "dtype: float64"
      ]
     },
     "execution_count": 64,
     "metadata": {},
     "output_type": "execute_result"
    }
   ],
   "source": [
    "GB_rmses = -cross_val_score(GBclass, customer, customer_labels, scoring=\"accuracy\", cv=10)\n",
    "pd.Series(GB_rmses).describe()"
   ]
  },
  {
   "cell_type": "code",
   "execution_count": 70,
   "id": "f0e8a13a-28cf-457b-a88a-8071cd975e0a",
   "metadata": {},
   "outputs": [
    {
     "data": {
      "text/plain": [
       "0.8323128579893344"
      ]
     },
     "execution_count": 70,
     "metadata": {},
     "output_type": "execute_result"
    }
   ],
   "source": [
    "from sklearn.ensemble import AdaBoostClassifier\n",
    "\n",
    "ABclass = AdaBoostClassifier()\n",
    "ABmode = ABclass.fit(customer, customer_labels)\n",
    "\n",
    "customer_predictions = GBclass.predict(customer)\n",
    "AB_accuracy = metrics.accuracy_score(customer_predictions, customer_labels)\n",
    "AB_accuracy"
   ]
  },
  {
   "cell_type": "code",
   "execution_count": 72,
   "id": "ad676e9d-f8d9-4196-97dc-50d0c92dda36",
   "metadata": {},
   "outputs": [
    {
     "data": {
      "text/plain": [
       "count    10.000000\n",
       "mean     -0.800715\n",
       "std       0.014718\n",
       "min      -0.826087\n",
       "25%      -0.811759\n",
       "50%      -0.796844\n",
       "75%      -0.791318\n",
       "max      -0.780632\n",
       "dtype: float64"
      ]
     },
     "execution_count": 72,
     "metadata": {},
     "output_type": "execute_result"
    }
   ],
   "source": [
    "AB_rmses = -cross_val_score(ABclass, customer, customer_labels, scoring=\"accuracy\", cv=10)\n",
    "pd.Series(AB_rmses).describe()"
   ]
  },
  {
   "cell_type": "code",
   "execution_count": 76,
   "id": "260f5745-6a43-4d36-96be-dce1d79386d0",
   "metadata": {
    "scrolled": true
   },
   "outputs": [
    {
     "name": "stdout",
     "output_type": "stream",
     "text": [
      "Epoch 1/100\n",
      "127/127 [==============================] - 2s 8ms/step - loss: 3.7362 - accuracy: 0.6877 - val_loss: 1.0094 - val_accuracy: 0.7572\n",
      "Epoch 2/100\n",
      "127/127 [==============================] - 0s 3ms/step - loss: 1.4077 - accuracy: 0.7188 - val_loss: 0.9704 - val_accuracy: 0.5755\n",
      "Epoch 3/100\n",
      "127/127 [==============================] - 0s 3ms/step - loss: 1.0662 - accuracy: 0.7444 - val_loss: 0.5406 - val_accuracy: 0.7453\n",
      "Epoch 4/100\n",
      "127/127 [==============================] - 0s 3ms/step - loss: 0.8271 - accuracy: 0.7536 - val_loss: 3.5823 - val_accuracy: 0.7502\n",
      "Epoch 5/100\n",
      "127/127 [==============================] - 0s 3ms/step - loss: 1.3348 - accuracy: 0.7296 - val_loss: 0.5565 - val_accuracy: 0.7858\n",
      "Epoch 6/100\n",
      "127/127 [==============================] - 0s 3ms/step - loss: 0.9270 - accuracy: 0.7489 - val_loss: 0.4607 - val_accuracy: 0.7937\n",
      "Epoch 7/100\n",
      "127/127 [==============================] - 0s 3ms/step - loss: 1.4196 - accuracy: 0.7360 - val_loss: 1.0292 - val_accuracy: 0.7828\n",
      "Epoch 8/100\n",
      "127/127 [==============================] - 0s 3ms/step - loss: 1.7013 - accuracy: 0.7304 - val_loss: 3.3477 - val_accuracy: 0.4886\n",
      "Epoch 9/100\n",
      "127/127 [==============================] - 0s 3ms/step - loss: 1.3875 - accuracy: 0.7504 - val_loss: 1.3149 - val_accuracy: 0.7808\n",
      "Epoch 10/100\n",
      "127/127 [==============================] - 0s 3ms/step - loss: 0.9979 - accuracy: 0.7489 - val_loss: 0.7735 - val_accuracy: 0.6624\n",
      "Epoch 11/100\n",
      "127/127 [==============================] - 1s 5ms/step - loss: 1.1717 - accuracy: 0.7370 - val_loss: 1.8102 - val_accuracy: 0.7512\n",
      "Epoch 12/100\n",
      "127/127 [==============================] - 1s 5ms/step - loss: 0.8393 - accuracy: 0.7607 - val_loss: 2.4906 - val_accuracy: 0.7601\n",
      "Epoch 13/100\n",
      "127/127 [==============================] - 1s 5ms/step - loss: 1.2144 - accuracy: 0.7514 - val_loss: 2.2716 - val_accuracy: 0.7621\n",
      "Epoch 14/100\n",
      "127/127 [==============================] - 1s 5ms/step - loss: 0.8550 - accuracy: 0.7548 - val_loss: 0.8388 - val_accuracy: 0.7769\n",
      "Epoch 15/100\n",
      "127/127 [==============================] - 1s 5ms/step - loss: 1.1409 - accuracy: 0.7486 - val_loss: 1.0900 - val_accuracy: 0.7789\n",
      "Epoch 16/100\n",
      "127/127 [==============================] - 1s 4ms/step - loss: 1.0826 - accuracy: 0.7516 - val_loss: 2.5592 - val_accuracy: 0.7621\n",
      "Epoch 17/100\n",
      "127/127 [==============================] - 0s 4ms/step - loss: 0.8939 - accuracy: 0.7610 - val_loss: 0.7449 - val_accuracy: 0.6654\n",
      "Epoch 18/100\n",
      "127/127 [==============================] - 1s 4ms/step - loss: 1.0631 - accuracy: 0.7575 - val_loss: 0.6798 - val_accuracy: 0.7887\n",
      "Epoch 19/100\n",
      "127/127 [==============================] - 1s 4ms/step - loss: 1.0232 - accuracy: 0.7536 - val_loss: 3.0601 - val_accuracy: 0.4827\n",
      "Epoch 20/100\n",
      "127/127 [==============================] - 0s 4ms/step - loss: 0.9976 - accuracy: 0.7588 - val_loss: 0.7263 - val_accuracy: 0.7897\n",
      "Epoch 21/100\n",
      "127/127 [==============================] - 0s 4ms/step - loss: 1.1684 - accuracy: 0.7622 - val_loss: 0.5209 - val_accuracy: 0.7730\n",
      "Epoch 22/100\n",
      "127/127 [==============================] - 0s 3ms/step - loss: 1.3089 - accuracy: 0.7449 - val_loss: 2.1799 - val_accuracy: 0.5104\n",
      "Epoch 23/100\n",
      "127/127 [==============================] - 0s 4ms/step - loss: 0.8484 - accuracy: 0.7644 - val_loss: 1.4480 - val_accuracy: 0.7660\n",
      "Epoch 24/100\n",
      "127/127 [==============================] - 0s 4ms/step - loss: 1.3738 - accuracy: 0.7390 - val_loss: 2.0593 - val_accuracy: 0.7759\n",
      "Epoch 25/100\n",
      "127/127 [==============================] - 1s 5ms/step - loss: 1.3311 - accuracy: 0.7536 - val_loss: 1.7444 - val_accuracy: 0.7759\n",
      "Epoch 26/100\n",
      "127/127 [==============================] - 1s 5ms/step - loss: 0.7627 - accuracy: 0.7652 - val_loss: 0.7616 - val_accuracy: 0.7858\n",
      "Epoch 27/100\n",
      "127/127 [==============================] - 1s 5ms/step - loss: 0.7058 - accuracy: 0.7644 - val_loss: 0.4577 - val_accuracy: 0.7680\n",
      "Epoch 28/100\n",
      "127/127 [==============================] - 1s 6ms/step - loss: 0.9757 - accuracy: 0.7578 - val_loss: 0.5827 - val_accuracy: 0.7246\n",
      "Epoch 29/100\n",
      "127/127 [==============================] - 1s 4ms/step - loss: 0.8259 - accuracy: 0.7610 - val_loss: 1.2412 - val_accuracy: 0.7887\n",
      "Epoch 30/100\n",
      "127/127 [==============================] - 0s 4ms/step - loss: 0.7272 - accuracy: 0.7723 - val_loss: 1.0922 - val_accuracy: 0.7680\n",
      "Epoch 31/100\n",
      "127/127 [==============================] - 1s 4ms/step - loss: 0.7740 - accuracy: 0.7728 - val_loss: 0.5311 - val_accuracy: 0.7799\n",
      "Epoch 32/100\n",
      "127/127 [==============================] - 0s 4ms/step - loss: 0.8538 - accuracy: 0.7590 - val_loss: 2.4056 - val_accuracy: 0.5044\n",
      "Epoch 33/100\n",
      "127/127 [==============================] - 0s 4ms/step - loss: 1.0835 - accuracy: 0.7563 - val_loss: 0.5676 - val_accuracy: 0.7808\n",
      "Epoch 34/100\n",
      "127/127 [==============================] - 0s 4ms/step - loss: 0.5613 - accuracy: 0.7788 - val_loss: 0.4685 - val_accuracy: 0.7927\n",
      "Epoch 35/100\n",
      "127/127 [==============================] - 0s 3ms/step - loss: 0.6482 - accuracy: 0.7721 - val_loss: 1.0146 - val_accuracy: 0.7779\n",
      "Epoch 36/100\n",
      "127/127 [==============================] - 0s 3ms/step - loss: 1.2774 - accuracy: 0.7590 - val_loss: 0.5742 - val_accuracy: 0.7887\n",
      "Epoch 37/100\n",
      "127/127 [==============================] - 0s 3ms/step - loss: 0.7919 - accuracy: 0.7681 - val_loss: 1.0389 - val_accuracy: 0.7799\n",
      "Epoch 38/100\n",
      "127/127 [==============================] - 0s 3ms/step - loss: 1.2165 - accuracy: 0.7521 - val_loss: 0.5850 - val_accuracy: 0.7206\n",
      "Epoch 39/100\n",
      "127/127 [==============================] - 0s 3ms/step - loss: 0.9604 - accuracy: 0.7617 - val_loss: 0.7928 - val_accuracy: 0.7838\n",
      "Epoch 40/100\n",
      "127/127 [==============================] - 0s 3ms/step - loss: 1.0068 - accuracy: 0.7588 - val_loss: 1.7096 - val_accuracy: 0.7739\n",
      "Epoch 41/100\n",
      "127/127 [==============================] - 0s 3ms/step - loss: 0.7410 - accuracy: 0.7731 - val_loss: 0.8324 - val_accuracy: 0.7779\n",
      "Epoch 42/100\n",
      "127/127 [==============================] - 0s 3ms/step - loss: 0.9412 - accuracy: 0.7570 - val_loss: 1.0513 - val_accuracy: 0.6022\n",
      "Epoch 43/100\n",
      "127/127 [==============================] - 1s 4ms/step - loss: 0.8799 - accuracy: 0.7570 - val_loss: 0.6461 - val_accuracy: 0.7838\n",
      "Epoch 44/100\n",
      "127/127 [==============================] - 1s 5ms/step - loss: 1.0373 - accuracy: 0.7565 - val_loss: 1.1216 - val_accuracy: 0.7552\n",
      "Epoch 45/100\n",
      "127/127 [==============================] - 1s 5ms/step - loss: 0.6416 - accuracy: 0.7686 - val_loss: 0.4430 - val_accuracy: 0.7670\n",
      "Epoch 46/100\n",
      "127/127 [==============================] - 1s 5ms/step - loss: 1.0164 - accuracy: 0.7521 - val_loss: 1.1281 - val_accuracy: 0.7769\n",
      "Epoch 47/100\n",
      "127/127 [==============================] - 1s 6ms/step - loss: 0.7001 - accuracy: 0.7669 - val_loss: 0.5314 - val_accuracy: 0.7325\n",
      "Epoch 48/100\n",
      "127/127 [==============================] - 1s 4ms/step - loss: 0.6547 - accuracy: 0.7686 - val_loss: 0.8867 - val_accuracy: 0.7769\n",
      "Epoch 49/100\n",
      "127/127 [==============================] - 0s 4ms/step - loss: 0.8496 - accuracy: 0.7588 - val_loss: 1.0395 - val_accuracy: 0.7808\n",
      "Epoch 50/100\n",
      "127/127 [==============================] - 0s 4ms/step - loss: 0.9104 - accuracy: 0.7578 - val_loss: 0.6551 - val_accuracy: 0.7858\n",
      "Epoch 51/100\n",
      "127/127 [==============================] - 0s 4ms/step - loss: 1.1614 - accuracy: 0.7536 - val_loss: 1.6486 - val_accuracy: 0.7730\n",
      "Epoch 52/100\n",
      "127/127 [==============================] - 0s 4ms/step - loss: 0.6977 - accuracy: 0.7721 - val_loss: 1.8653 - val_accuracy: 0.5212\n",
      "Epoch 53/100\n",
      "127/127 [==============================] - 0s 4ms/step - loss: 0.8239 - accuracy: 0.7654 - val_loss: 1.1468 - val_accuracy: 0.5874\n",
      "Epoch 54/100\n",
      "127/127 [==============================] - 0s 3ms/step - loss: 0.6178 - accuracy: 0.7758 - val_loss: 0.6320 - val_accuracy: 0.7887\n",
      "Epoch 55/100\n",
      "127/127 [==============================] - 0s 3ms/step - loss: 0.6201 - accuracy: 0.7731 - val_loss: 0.9710 - val_accuracy: 0.7779\n",
      "Epoch 56/100\n",
      "127/127 [==============================] - 0s 3ms/step - loss: 0.6768 - accuracy: 0.7709 - val_loss: 0.4839 - val_accuracy: 0.7779\n",
      "Epoch 57/100\n",
      "127/127 [==============================] - 1s 4ms/step - loss: 0.8731 - accuracy: 0.7630 - val_loss: 0.6473 - val_accuracy: 0.7878\n",
      "Epoch 58/100\n",
      "127/127 [==============================] - 1s 5ms/step - loss: 0.6359 - accuracy: 0.7699 - val_loss: 0.4413 - val_accuracy: 0.7927\n",
      "Epoch 59/100\n",
      "127/127 [==============================] - 1s 4ms/step - loss: 0.7439 - accuracy: 0.7696 - val_loss: 0.4410 - val_accuracy: 0.7700\n",
      "Epoch 60/100\n",
      "127/127 [==============================] - 0s 4ms/step - loss: 0.5476 - accuracy: 0.7847 - val_loss: 0.4612 - val_accuracy: 0.7917\n",
      "Epoch 61/100\n",
      "127/127 [==============================] - 0s 4ms/step - loss: 0.7128 - accuracy: 0.7701 - val_loss: 0.9085 - val_accuracy: 0.7858\n",
      "Epoch 62/100\n",
      "127/127 [==============================] - 0s 4ms/step - loss: 0.6652 - accuracy: 0.7610 - val_loss: 0.5555 - val_accuracy: 0.7878\n",
      "Epoch 63/100\n",
      "127/127 [==============================] - 1s 4ms/step - loss: 0.5745 - accuracy: 0.7780 - val_loss: 1.8108 - val_accuracy: 0.7572\n",
      "Epoch 64/100\n",
      "127/127 [==============================] - 1s 5ms/step - loss: 1.2430 - accuracy: 0.7570 - val_loss: 0.5627 - val_accuracy: 0.7266\n",
      "Epoch 65/100\n",
      "127/127 [==============================] - 1s 4ms/step - loss: 0.5760 - accuracy: 0.7825 - val_loss: 0.4471 - val_accuracy: 0.7878\n",
      "Epoch 66/100\n",
      "127/127 [==============================] - 1s 4ms/step - loss: 0.6864 - accuracy: 0.7716 - val_loss: 0.9267 - val_accuracy: 0.6051\n",
      "Epoch 67/100\n",
      "127/127 [==============================] - 0s 4ms/step - loss: 1.0451 - accuracy: 0.7622 - val_loss: 0.5611 - val_accuracy: 0.7779\n",
      "Epoch 68/100\n",
      "127/127 [==============================] - 0s 3ms/step - loss: 0.6203 - accuracy: 0.7795 - val_loss: 0.5042 - val_accuracy: 0.7878\n",
      "Epoch 69/100\n",
      "127/127 [==============================] - 1s 4ms/step - loss: 0.6457 - accuracy: 0.7765 - val_loss: 0.6395 - val_accuracy: 0.7818\n",
      "Epoch 70/100\n",
      "127/127 [==============================] - 1s 5ms/step - loss: 0.7195 - accuracy: 0.7635 - val_loss: 0.6778 - val_accuracy: 0.6634\n",
      "Epoch 71/100\n",
      "127/127 [==============================] - 1s 4ms/step - loss: 0.7150 - accuracy: 0.7662 - val_loss: 1.1184 - val_accuracy: 0.7848\n",
      "Epoch 72/100\n",
      "127/127 [==============================] - 0s 4ms/step - loss: 0.5733 - accuracy: 0.7817 - val_loss: 0.5987 - val_accuracy: 0.7838\n",
      "Epoch 73/100\n",
      "127/127 [==============================] - 0s 4ms/step - loss: 0.4986 - accuracy: 0.7919 - val_loss: 0.4321 - val_accuracy: 0.7907\n",
      "Epoch 74/100\n",
      "127/127 [==============================] - 0s 4ms/step - loss: 0.7724 - accuracy: 0.7672 - val_loss: 0.6459 - val_accuracy: 0.6821\n",
      "Epoch 75/100\n",
      "127/127 [==============================] - 0s 4ms/step - loss: 0.6597 - accuracy: 0.7780 - val_loss: 1.0261 - val_accuracy: 0.7749\n",
      "Epoch 76/100\n",
      "127/127 [==============================] - 1s 5ms/step - loss: 0.5787 - accuracy: 0.7763 - val_loss: 0.8908 - val_accuracy: 0.7779\n",
      "Epoch 77/100\n",
      "127/127 [==============================] - 1s 4ms/step - loss: 0.5596 - accuracy: 0.7802 - val_loss: 0.4478 - val_accuracy: 0.7878\n",
      "Epoch 78/100\n",
      "127/127 [==============================] - 0s 4ms/step - loss: 0.5992 - accuracy: 0.7728 - val_loss: 1.0865 - val_accuracy: 0.7789\n",
      "Epoch 79/100\n",
      "127/127 [==============================] - 1s 4ms/step - loss: 0.6246 - accuracy: 0.7719 - val_loss: 0.6640 - val_accuracy: 0.7838\n",
      "Epoch 80/100\n",
      "127/127 [==============================] - 0s 4ms/step - loss: 0.6152 - accuracy: 0.7751 - val_loss: 0.7642 - val_accuracy: 0.7828\n",
      "Epoch 81/100\n",
      "127/127 [==============================] - 1s 4ms/step - loss: 0.5304 - accuracy: 0.7778 - val_loss: 0.7885 - val_accuracy: 0.7759\n",
      "Epoch 82/100\n",
      "127/127 [==============================] - 1s 5ms/step - loss: 0.4965 - accuracy: 0.7842 - val_loss: 0.4478 - val_accuracy: 0.7868\n",
      "Epoch 83/100\n",
      "127/127 [==============================] - 1s 4ms/step - loss: 0.5389 - accuracy: 0.7805 - val_loss: 0.8104 - val_accuracy: 0.7808\n",
      "Epoch 84/100\n",
      "127/127 [==============================] - 0s 4ms/step - loss: 0.5646 - accuracy: 0.7822 - val_loss: 0.5421 - val_accuracy: 0.7226\n",
      "Epoch 85/100\n",
      "127/127 [==============================] - 0s 4ms/step - loss: 0.6948 - accuracy: 0.7736 - val_loss: 1.6532 - val_accuracy: 0.7690\n",
      "Epoch 86/100\n",
      "127/127 [==============================] - 0s 3ms/step - loss: 0.7025 - accuracy: 0.7686 - val_loss: 0.4838 - val_accuracy: 0.7493\n",
      "Epoch 87/100\n",
      "127/127 [==============================] - 1s 4ms/step - loss: 0.5885 - accuracy: 0.7793 - val_loss: 0.7179 - val_accuracy: 0.6624\n",
      "Epoch 88/100\n",
      "127/127 [==============================] - 1s 5ms/step - loss: 0.5468 - accuracy: 0.7807 - val_loss: 0.5630 - val_accuracy: 0.7947\n",
      "Epoch 89/100\n",
      "127/127 [==============================] - 1s 4ms/step - loss: 0.6446 - accuracy: 0.7719 - val_loss: 0.5028 - val_accuracy: 0.7947\n",
      "Epoch 90/100\n",
      "127/127 [==============================] - 1s 4ms/step - loss: 0.5432 - accuracy: 0.7842 - val_loss: 0.4664 - val_accuracy: 0.7591\n",
      "Epoch 91/100\n",
      "127/127 [==============================] - 1s 4ms/step - loss: 0.5583 - accuracy: 0.7765 - val_loss: 0.4408 - val_accuracy: 0.7878\n",
      "Epoch 92/100\n",
      "127/127 [==============================] - 0s 4ms/step - loss: 0.5117 - accuracy: 0.7862 - val_loss: 0.4719 - val_accuracy: 0.7976\n",
      "Epoch 93/100\n",
      "127/127 [==============================] - 1s 4ms/step - loss: 0.5892 - accuracy: 0.7817 - val_loss: 1.8261 - val_accuracy: 0.7601\n",
      "Epoch 94/100\n",
      "127/127 [==============================] - 1s 5ms/step - loss: 0.5911 - accuracy: 0.7810 - val_loss: 0.6537 - val_accuracy: 0.7838\n",
      "Epoch 95/100\n",
      "127/127 [==============================] - 1s 4ms/step - loss: 0.5210 - accuracy: 0.7812 - val_loss: 0.8719 - val_accuracy: 0.7700\n",
      "Epoch 96/100\n",
      "127/127 [==============================] - 1s 5ms/step - loss: 0.5151 - accuracy: 0.7817 - val_loss: 0.4602 - val_accuracy: 0.7996\n",
      "Epoch 97/100\n",
      "127/127 [==============================] - 1s 4ms/step - loss: 0.6336 - accuracy: 0.7807 - val_loss: 0.6298 - val_accuracy: 0.7690\n",
      "Epoch 98/100\n",
      "127/127 [==============================] - 0s 4ms/step - loss: 0.6696 - accuracy: 0.7674 - val_loss: 0.4755 - val_accuracy: 0.7502\n",
      "Epoch 99/100\n",
      "127/127 [==============================] - 1s 4ms/step - loss: 0.6772 - accuracy: 0.7699 - val_loss: 0.6033 - val_accuracy: 0.6979\n",
      "Epoch 100/100\n",
      "127/127 [==============================] - 1s 5ms/step - loss: 0.6850 - accuracy: 0.7652 - val_loss: 0.9461 - val_accuracy: 0.7838\n",
      "159/159 [==============================] - 0s 2ms/step - loss: 0.8402 - accuracy: 0.7942\n",
      "Test Accuracy: 0.7942\n"
     ]
    }
   ],
   "source": [
    "import tensorflow as tf\n",
    "from tensorflow.keras.models import Sequential\n",
    "from tensorflow.keras.layers import Dense\n",
    "from sklearn.preprocessing import LabelEncoder\n",
    "\n",
    "\n",
    "label_encoder = LabelEncoder()\n",
    "customer_labels_encoded = label_encoder.fit_transform(customer_labels)\n",
    "\n",
    "model = Sequential([\n",
    "    Dense(64, activation='relu', input_shape=(customer.shape[1],)),\n",
    "    Dense(32, activation='relu'),\n",
    "    Dense(1, activation='sigmoid')  # Use 'sigmoid' for binary classification\n",
    "])\n",
    "\n",
    "# Compile the model\n",
    "model.compile(optimizer='adam',\n",
    "              loss='binary_crossentropy',  # Use 'binary_crossentropy' for binary classification\n",
    "              metrics=['accuracy'])\n",
    "\n",
    "history = model.fit(customer, customer_labels_encoded, epochs=100, batch_size=32, validation_split=0.2, verbose=1)\n",
    "\n",
    "loss, accuracy = model.evaluate(customer, customer_labels_encoded, verbose=1)\n",
    "print(f'Test Accuracy: {accuracy:.4f}')"
   ]
  },
  {
   "cell_type": "code",
   "execution_count": 80,
   "id": "432c5e49-974d-4c50-a260-34726f108e2a",
   "metadata": {},
   "outputs": [],
   "source": [
    "from sklearn.model_selection import RandomizedSearchCV\n",
    "\n",
    "param_grid = {\n",
    "    'n_estimators': [50, 100, 150, 200],\n",
    "    'learning_rate': [0.001, 0.01, 0.1, 0.2],\n",
    "    'max_depth': [3, 4, 5, 6, 7],\n",
    "    'min_samples_split': [2, 5, 10],\n",
    "    'min_samples_leaf': [1, 2, 4],\n",
    "    'subsample': [0.8, 0.9, 1.0]\n",
    "}"
   ]
  },
  {
   "cell_type": "code",
   "execution_count": 86,
   "id": "181e4828-32c1-4027-abd7-acf3e3c374cb",
   "metadata": {},
   "outputs": [
    {
     "name": "stdout",
     "output_type": "stream",
     "text": [
      "Fitting 3 folds for each of 4 candidates, totalling 12 fits\n",
      "Time for RandomizedSearchCV fit: 12.2680025100708\n"
     ]
    }
   ],
   "source": [
    "import time\n",
    "\n",
    "# Initialize the GradientBoostingClassifier\n",
    "GBclass = GradientBoostingClassifier()\n",
    "\n",
    "# Initialize RandomizedSearchCV\n",
    "random_search = RandomizedSearchCV(\n",
    "    estimator=GBclass,\n",
    "    param_distributions=param_grid,\n",
    "    n_iter=4,  # Number of parameter settings to try (small subset for quick fitting)\n",
    "    cv=3,  # Number of folds in cross-validation\n",
    "    verbose=1,\n",
    "    random_state=42,\n",
    "    n_jobs=-1\n",
    ")\n",
    "\n",
    "# Start timing\n",
    "start_time = time.time()\n",
    "\n",
    "# Fit RandomizedSearchCV\n",
    "random_search.fit(customer, customer_labels)\n",
    "\n",
    "# End timing\n",
    "end_time = time.time()\n",
    "\n",
    "# Print the time taken for the fit\n",
    "print(\"Time for RandomizedSearchCV fit:\", end_time - start_time)\n"
   ]
  },
  {
   "cell_type": "code",
   "execution_count": 89,
   "id": "4a0e6762-952b-44d4-8f9f-0240eb37edda",
   "metadata": {},
   "outputs": [
    {
     "name": "stdout",
     "output_type": "stream",
     "text": [
      "Fitting 5 folds for each of 50 candidates, totalling 250 fits\n",
      "Best Hyperparameters:\n",
      "{'subsample': 0.8, 'n_estimators': 50, 'min_samples_split': 5, 'min_samples_leaf': 4, 'max_depth': 3, 'learning_rate': 0.1}\n",
      "Accuracy of the best GradientBoostingClassifier: 0.8182895516492198\n"
     ]
    }
   ],
   "source": [
    "from sklearn.metrics import accuracy_score\n",
    "\n",
    "# Initialize the GradientBoostingClassifier\n",
    "GBclass = GradientBoostingClassifier()\n",
    "\n",
    "# Initialize RandomizedSearchCV\n",
    "random_search = RandomizedSearchCV(\n",
    "    estimator=GBclass,\n",
    "    param_distributions=param_grid,\n",
    "    n_iter=50,  # Number of parameter settings to try\n",
    "    cv=5,  # Number of folds in cross-validation\n",
    "    verbose=1,\n",
    "    random_state=42,\n",
    "    n_jobs=-1\n",
    ")\n",
    "\n",
    "# Fit RandomizedSearchCV\n",
    "random_search.fit(customer, customer_labels)\n",
    "\n",
    "# Get the best model and its parameters\n",
    "best_model = random_search.best_estimator_\n",
    "best_params = random_search.best_params_\n",
    "\n",
    "print(\"Best Hyperparameters:\")\n",
    "print(best_params)\n",
    "\n",
    "# Make predictions using the best model\n",
    "customer_predictions = best_model.predict(customer)\n",
    "\n",
    "# Calculate accuracy\n",
    "accuracy = accuracy_score(customer_labels, customer_predictions)\n",
    "print(f\"Accuracy of the best GradientBoostingClassifier: {accuracy}\")"
   ]
  },
  {
   "cell_type": "code",
   "execution_count": 93,
   "id": "0c47ec63-607e-44b4-b2c8-e8eedd1545dd",
   "metadata": {},
   "outputs": [
    {
     "data": {
      "text/html": [
       "<div>\n",
       "<style scoped>\n",
       "    .dataframe tbody tr th:only-of-type {\n",
       "        vertical-align: middle;\n",
       "    }\n",
       "\n",
       "    .dataframe tbody tr th {\n",
       "        vertical-align: top;\n",
       "    }\n",
       "\n",
       "    .dataframe thead th {\n",
       "        text-align: right;\n",
       "    }\n",
       "</style>\n",
       "<table border=\"1\" class=\"dataframe\">\n",
       "  <thead>\n",
       "    <tr style=\"text-align: right;\">\n",
       "      <th></th>\n",
       "      <th>gender</th>\n",
       "      <th>SeniorCitizen</th>\n",
       "      <th>Partner</th>\n",
       "      <th>Dependents</th>\n",
       "      <th>tenure</th>\n",
       "      <th>PhoneService</th>\n",
       "      <th>MultipleLines</th>\n",
       "      <th>InternetService</th>\n",
       "      <th>OnlineSecurity</th>\n",
       "      <th>OnlineBackup</th>\n",
       "      <th>DeviceProtection</th>\n",
       "      <th>TechSupport</th>\n",
       "      <th>StreamingTV</th>\n",
       "      <th>StreamingMovies</th>\n",
       "      <th>Contract</th>\n",
       "      <th>PaperlessBilling</th>\n",
       "      <th>PaymentMethod</th>\n",
       "      <th>MonthlyCharges</th>\n",
       "      <th>TotalCharges</th>\n",
       "      <th>Churn</th>\n",
       "    </tr>\n",
       "  </thead>\n",
       "  <tbody>\n",
       "    <tr>\n",
       "      <th>1576</th>\n",
       "      <td>0</td>\n",
       "      <td>1</td>\n",
       "      <td>1</td>\n",
       "      <td>0</td>\n",
       "      <td>68</td>\n",
       "      <td>1</td>\n",
       "      <td>0</td>\n",
       "      <td>0</td>\n",
       "      <td>0</td>\n",
       "      <td>2</td>\n",
       "      <td>2</td>\n",
       "      <td>2</td>\n",
       "      <td>0</td>\n",
       "      <td>0</td>\n",
       "      <td>1</td>\n",
       "      <td>1</td>\n",
       "      <td>0</td>\n",
       "      <td>60.65</td>\n",
       "      <td>3975.9</td>\n",
       "      <td>No</td>\n",
       "    </tr>\n",
       "    <tr>\n",
       "      <th>3065</th>\n",
       "      <td>1</td>\n",
       "      <td>0</td>\n",
       "      <td>0</td>\n",
       "      <td>0</td>\n",
       "      <td>1</td>\n",
       "      <td>1</td>\n",
       "      <td>0</td>\n",
       "      <td>0</td>\n",
       "      <td>0</td>\n",
       "      <td>0</td>\n",
       "      <td>0</td>\n",
       "      <td>0</td>\n",
       "      <td>0</td>\n",
       "      <td>0</td>\n",
       "      <td>0</td>\n",
       "      <td>1</td>\n",
       "      <td>3</td>\n",
       "      <td>45.80</td>\n",
       "      <td>45.8</td>\n",
       "      <td>No</td>\n",
       "    </tr>\n",
       "    <tr>\n",
       "      <th>1188</th>\n",
       "      <td>0</td>\n",
       "      <td>0</td>\n",
       "      <td>0</td>\n",
       "      <td>0</td>\n",
       "      <td>35</td>\n",
       "      <td>1</td>\n",
       "      <td>0</td>\n",
       "      <td>1</td>\n",
       "      <td>0</td>\n",
       "      <td>0</td>\n",
       "      <td>2</td>\n",
       "      <td>2</td>\n",
       "      <td>2</td>\n",
       "      <td>2</td>\n",
       "      <td>1</td>\n",
       "      <td>1</td>\n",
       "      <td>2</td>\n",
       "      <td>99.25</td>\n",
       "      <td>3532</td>\n",
       "      <td>No</td>\n",
       "    </tr>\n",
       "    <tr>\n",
       "      <th>3496</th>\n",
       "      <td>1</td>\n",
       "      <td>0</td>\n",
       "      <td>0</td>\n",
       "      <td>0</td>\n",
       "      <td>25</td>\n",
       "      <td>1</td>\n",
       "      <td>0</td>\n",
       "      <td>1</td>\n",
       "      <td>2</td>\n",
       "      <td>0</td>\n",
       "      <td>0</td>\n",
       "      <td>0</td>\n",
       "      <td>0</td>\n",
       "      <td>0</td>\n",
       "      <td>0</td>\n",
       "      <td>0</td>\n",
       "      <td>0</td>\n",
       "      <td>74.30</td>\n",
       "      <td>1952.25</td>\n",
       "      <td>No</td>\n",
       "    </tr>\n",
       "    <tr>\n",
       "      <th>1417</th>\n",
       "      <td>0</td>\n",
       "      <td>1</td>\n",
       "      <td>0</td>\n",
       "      <td>0</td>\n",
       "      <td>18</td>\n",
       "      <td>1</td>\n",
       "      <td>0</td>\n",
       "      <td>0</td>\n",
       "      <td>0</td>\n",
       "      <td>2</td>\n",
       "      <td>0</td>\n",
       "      <td>0</td>\n",
       "      <td>0</td>\n",
       "      <td>0</td>\n",
       "      <td>0</td>\n",
       "      <td>1</td>\n",
       "      <td>1</td>\n",
       "      <td>49.85</td>\n",
       "      <td>865.75</td>\n",
       "      <td>No</td>\n",
       "    </tr>\n",
       "  </tbody>\n",
       "</table>\n",
       "</div>"
      ],
      "text/plain": [
       "      gender  SeniorCitizen  Partner  Dependents  tenure  PhoneService  \\\n",
       "1576       0              1        1           0      68             1   \n",
       "3065       1              0        0           0       1             1   \n",
       "1188       0              0        0           0      35             1   \n",
       "3496       1              0        0           0      25             1   \n",
       "1417       0              1        0           0      18             1   \n",
       "\n",
       "      MultipleLines  InternetService  OnlineSecurity  OnlineBackup  \\\n",
       "1576              0                0               0             2   \n",
       "3065              0                0               0             0   \n",
       "1188              0                1               0             0   \n",
       "3496              0                1               2             0   \n",
       "1417              0                0               0             2   \n",
       "\n",
       "      DeviceProtection  TechSupport  StreamingTV  StreamingMovies  Contract  \\\n",
       "1576                 2            2            0                0         1   \n",
       "3065                 0            0            0                0         0   \n",
       "1188                 2            2            2                2         1   \n",
       "3496                 0            0            0                0         0   \n",
       "1417                 0            0            0                0         0   \n",
       "\n",
       "      PaperlessBilling  PaymentMethod  MonthlyCharges TotalCharges Churn  \n",
       "1576                 1              0           60.65       3975.9    No  \n",
       "3065                 1              3           45.80         45.8    No  \n",
       "1188                 1              2           99.25         3532    No  \n",
       "3496                 0              0           74.30      1952.25    No  \n",
       "1417                 1              1           49.85       865.75    No  "
      ]
     },
     "execution_count": 93,
     "metadata": {},
     "output_type": "execute_result"
    }
   ],
   "source": [
    "from sklearn.preprocessing import LabelEncoder\n",
    "\n",
    "columns_to_encode = [\n",
    "    'PhoneService', 'MultipleLines', 'InternetService', 'OnlineSecurity',\n",
    "    'OnlineBackup', 'DeviceProtection', 'TechSupport', 'StreamingTV',\n",
    "    'StreamingMovies', 'Contract', 'PaperlessBilling', 'PaymentMethod',\n",
    "    'gender', 'Partner', 'Dependents', 'InternetService'\n",
    "]\n",
    "\n",
    "# Initialize the LabelEncoder\n",
    "label_encoders = {}\n",
    "\n",
    "# Apply LabelEncoder to each column\n",
    "for column in columns_to_encode:\n",
    "    le = LabelEncoder()\n",
    "    test_set[column] = le.fit_transform(test_set[column])\n",
    "    label_encoders[column] = le  # Save the label encoder for inverse_transform if needed\n",
    "\n",
    "test_set.sample(5)"
   ]
  },
  {
   "cell_type": "code",
   "execution_count": 95,
   "id": "06f0f9cc-b07d-4f84-b50e-bf48ae9e7288",
   "metadata": {},
   "outputs": [],
   "source": [
    "test_set['TotalCharges'] = test_set['TotalCharges'].replace('', np.nan)\n",
    "test_set['TotalCharges'] = pd.to_numeric(test_set['TotalCharges'], errors='coerce')\n",
    "\n",
    "test_set.dropna(inplace = True)"
   ]
  },
  {
   "cell_type": "code",
   "execution_count": 99,
   "id": "39ba8611-6af3-43a2-a7c4-e72a50f62cd9",
   "metadata": {},
   "outputs": [
    {
     "name": "stdout",
     "output_type": "stream",
     "text": [
      "Root Accuracy Score: 0.8064056939501779\n"
     ]
    }
   ],
   "source": [
    "best_rf_model = random_search.best_estimator_\n",
    "\n",
    "test_predictions = best_rf_model.predict(test_set.drop(\"Churn\", axis=1))\n",
    "\n",
    "test_accuracy = accuracy_score(test_set[\"Churn\"], test_predictions)\n",
    "print(\"Root Accuracy Score:\", test_accuracy)"
   ]
  },
  {
   "cell_type": "code",
   "execution_count": 101,
   "id": "e9a0a571-870e-484b-a1cd-778dbcc1b374",
   "metadata": {},
   "outputs": [],
   "source": [
    "import pickle\n",
    "\n",
    "with open('final_model.pkl', 'wb') as file:\n",
    "    pickle.dump(best_rf_model, file)"
   ]
  },
  {
   "cell_type": "code",
   "execution_count": null,
   "id": "743e4624-7cf9-4585-ba6f-82268800260a",
   "metadata": {},
   "outputs": [],
   "source": []
  }
 ],
 "metadata": {
  "kernelspec": {
   "display_name": "Python (tf_env)",
   "language": "python",
   "name": "tf_env"
  },
  "language_info": {
   "codemirror_mode": {
    "name": "ipython",
    "version": 3
   },
   "file_extension": ".py",
   "mimetype": "text/x-python",
   "name": "python",
   "nbconvert_exporter": "python",
   "pygments_lexer": "ipython3",
   "version": "3.8.15"
  }
 },
 "nbformat": 4,
 "nbformat_minor": 5
}
